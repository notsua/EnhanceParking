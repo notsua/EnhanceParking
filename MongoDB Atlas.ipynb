{
 "cells": [
  {
   "cell_type": "code",
   "execution_count": 1,
   "id": "01f0d70c",
   "metadata": {},
   "outputs": [
    {
     "name": "stdout",
     "output_type": "stream",
     "text": [
      "Requirement already satisfied: pymongo in c:\\users\\vmrma\\anaconda3\\lib\\site-packages (4.1.1)\n",
      "Note: you may need to restart the kernel to use updated packages.\n"
     ]
    }
   ],
   "source": [
    "pip install pymongo"
   ]
  },
  {
   "cell_type": "code",
   "execution_count": 2,
   "id": "57e0ee70",
   "metadata": {},
   "outputs": [],
   "source": [
    "from pymongo import MongoClient"
   ]
  },
  {
   "cell_type": "code",
   "execution_count": 6,
   "id": "2cdc7796",
   "metadata": {},
   "outputs": [],
   "source": [
    "client= MongoClient(\"mongodb://root:<password>@enhanceparking-shard-00-00.toc85.mongodb.net:27017,enhanceparking-shard-00-01.toc85.mongodb.net:27017,enhanceparking-shard-00-02.toc85.mongodb.net:27017/myFirstDatabase?ssl=true&replicaSet=atlas-35r2e2-shard-0&authSource=admin&retryWrites=true&w=majority\")"
   ]
  },
  {
   "cell_type": "code",
   "execution_count": 7,
   "id": "9fccdce0",
   "metadata": {},
   "outputs": [],
   "source": [
    "db = client.get_database('Enhancement')\n",
    "records=db.Enhance"
   ]
  },
  {
   "cell_type": "code",
   "execution_count": 8,
   "id": "1cac9372",
   "metadata": {},
   "outputs": [
    {
     "data": {
      "text/plain": [
       "<pymongo.results.InsertOneResult at 0x2af375c6640>"
      ]
     },
     "execution_count": 8,
     "metadata": {},
     "output_type": "execute_result"
    }
   ],
   "source": [
    "x = {\n",
    "    'Co-ordinates':'13.139268348118557,77.6261566464334',\n",
    "    'Available-Spaces':'19',\n",
    "    'Location':'Baglur'\n",
    "}\n",
    "records.insert_one(x)"
   ]
  },
  {
   "cell_type": "code",
   "execution_count": 9,
   "id": "1601601a",
   "metadata": {},
   "outputs": [
    {
     "data": {
      "text/plain": [
       "<pymongo.results.UpdateResult at 0x2af375c6070>"
      ]
     },
     "execution_count": 9,
     "metadata": {},
     "output_type": "execute_result"
    }
   ],
   "source": [
    "myquery = { 'Co-ordinates':'13.139268348118557,77.6261566464334' }\n",
    "newvalues = { \"$set\": {'Location':'Bhutan','Available-Spaces':'15'} }\n",
    "db.Enhance.update_one(myquery, newvalues)"
   ]
  },
  {
   "cell_type": "code",
   "execution_count": null,
   "id": "cac0cf1d",
   "metadata": {},
   "outputs": [],
   "source": []
  }
 ],
 "metadata": {
  "kernelspec": {
   "display_name": "Python 3",
   "language": "python",
   "name": "python3"
  },
  "language_info": {
   "codemirror_mode": {
    "name": "ipython",
    "version": 3
   },
   "file_extension": ".py",
   "mimetype": "text/x-python",
   "name": "python",
   "nbconvert_exporter": "python",
   "pygments_lexer": "ipython3",
   "version": "3.8.8"
  }
 },
 "nbformat": 4,
 "nbformat_minor": 5
}
